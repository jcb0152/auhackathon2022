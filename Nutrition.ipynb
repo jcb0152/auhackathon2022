{
 "cells": [
  {
   "cell_type": "code",
   "execution_count": 1,
   "id": "f6adc2b6",
   "metadata": {},
   "outputs": [],
   "source": [
    "import pandas as pd # library for data analysis\n",
    "import requests # library to handle requests\n",
    "from bs4 import BeautifulSoup # library to parse HTML documents\n",
    "from collections import defaultdict\n",
    "import json"
   ]
  },
  {
   "cell_type": "code",
   "execution_count": 6,
   "id": "b5343a84",
   "metadata": {},
   "outputs": [],
   "source": [
    "url = 'https://en.wikipedia.org/wiki/Table_of_food_nutrients'\n",
    "\n",
    "r = requests.get(url)\n",
    "soup = BeautifulSoup(r.text, 'lxml')\n",
    "tables = soup.find_all(\"table\")\n",
    "\n",
    "categories = {}\n",
    "\n",
    "for (i, table) in enumerate(tables):\n",
    "    df=pd.read_html(str(table))\n",
    "    # convert list to dataframe\n",
    "    dic = pd.DataFrame(df[0]).to_dict()\n",
    "    \n",
    "    table_name = list(dic.keys())[0][0]\n",
    "    \n",
    "    for k, v in list(dic.items()):\n",
    "        dic[k[1]] = dic.pop(k)\n",
    "        \n",
    "    categories[table_name] = dic\n",
    "    "
   ]
  },
  {
   "cell_type": "code",
   "execution_count": 7,
   "id": "fee68766",
   "metadata": {},
   "outputs": [],
   "source": [
    "with open(\"nutrition_data.json\", 'w') as f:\n",
    "    json.dump(categories, f, indent = 4)"
   ]
  }
 ],
 "metadata": {
  "kernelspec": {
   "display_name": "Python 3 (ipykernel)",
   "language": "python",
   "name": "python3"
  },
  "language_info": {
   "codemirror_mode": {
    "name": "ipython",
    "version": 3
   },
   "file_extension": ".py",
   "mimetype": "text/x-python",
   "name": "python",
   "nbconvert_exporter": "python",
   "pygments_lexer": "ipython3",
   "version": "3.8.10"
  }
 },
 "nbformat": 4,
 "nbformat_minor": 5
}
