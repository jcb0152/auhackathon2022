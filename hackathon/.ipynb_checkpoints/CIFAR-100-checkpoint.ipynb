{
 "cells": [
  {
   "cell_type": "code",
   "execution_count": 1,
   "id": "c92d09c6",
   "metadata": {},
   "outputs": [],
   "source": [
    "import numpy as np\n",
    "import pandas as pd\n",
    "%matplotlib inline"
   ]
  },
  {
   "cell_type": "code",
   "execution_count": 2,
   "id": "66ba6730",
   "metadata": {},
   "outputs": [],
   "source": [
    "def unpickle(file):\n",
    "    import pickle\n",
    "    with open(file, 'rb') as fo:\n",
    "        dict = pickle.load(fo, encoding='bytes')\n",
    "    return dict"
   ]
  },
  {
   "cell_type": "code",
   "execution_count": 3,
   "id": "68af756c",
   "metadata": {},
   "outputs": [],
   "source": [
    "def prune_dataset(superclasses, key, data_all):\n",
    "    indexs = []\n",
    "\n",
    "    for i, label in enumerate(data_all[key]):\n",
    "        if (label in superclasses):\n",
    "            indexs.append(i)\n",
    "\n",
    "    dataset = {}\n",
    "\n",
    "    for k in data_all.keys():\n",
    "        new_k = k\n",
    "        if (k == b'fine_labels' or k == b'data' or k == b'labels'):\n",
    "            if (k == b'fine_labels'):\n",
    "                new_k = b'labels'\n",
    "            dataset[new_k] = []\n",
    "            for i in indexs:\n",
    "                dataset[new_k].append(data_all[k][i])\n",
    "\n",
    "    return dataset"
   ]
  },
  {
   "cell_type": "code",
   "execution_count": 4,
   "id": "41f4a2fa",
   "metadata": {},
   "outputs": [],
   "source": [
    "labels_100 = [0,1,7,8,11,12,13,15,16]\n",
    "\n",
    "dataset = unpickle('cifar-100/train')\n",
    "dataset = prune_dataset(labels_100, b'coarse_labels', dataset)\n",
    "\n",
    "labels_100 = list(set(dataset[b'labels']))\n",
    "labels_100.sort()\n",
    "\n",
    "labels_100_dict = {k:v for (v, k) in enumerate(labels_100)}\n",
    "\n",
    "for (i, l) in enumerate(dataset[b'labels']):\n",
    "    dataset[b'labels'][i] = labels_100_dict[l]"
   ]
  },
  {
   "cell_type": "code",
   "execution_count": 5,
   "id": "acdb5044",
   "metadata": {},
   "outputs": [],
   "source": [
    "labels_10 = [3,4,5,6,7,8]\n",
    "\n",
    "for i in range(1, 6):\n",
    "    dataset_10 = unpickle('cifar-10/data_batch_' + str(i))\n",
    "    pruned = prune_dataset(labels_10, b'labels', dataset_10)\n",
    "    \n",
    "    labels_10_dict = {k:v+len(labels_100) for (v, k) in enumerate(labels_10)}\n",
    "    \n",
    "    for (i, l) in enumerate(pruned[b'labels']):\n",
    "        pruned[b'labels'][i] = labels_10_dict[l]\n",
    "    \n",
    "    dataset[b'labels'] += pruned[b'labels']\n",
    "    dataset[b'data'] += pruned[b'data']"
   ]
  },
  {
   "cell_type": "code",
   "execution_count": 6,
   "id": "f3cf4ff4",
   "metadata": {},
   "outputs": [],
   "source": [
    "label_names_100 = unpickle(\"cifar-100/meta\")[b'fine_label_names']\n",
    "label_names_10 = unpickle(\"cifar-10/batches.meta\")[b'label_names']\n",
    "label_names = []\n",
    "\n",
    "for i in labels_100:\n",
    "    label_names.append(label_names_100[i])\n",
    "    \n",
    "for i in labels_10:\n",
    "    label_names.append(label_names_10[i])"
   ]
  },
  {
   "cell_type": "code",
   "execution_count": 7,
   "id": "30d6331b",
   "metadata": {},
   "outputs": [],
   "source": [
    "X = np.array(dataset[b'data'])\n",
    "y = np.array(dataset[b'labels'])"
   ]
  }
 ],
 "metadata": {
  "kernelspec": {
   "display_name": "Python 3 (ipykernel)",
   "language": "python",
   "name": "python3"
  },
  "language_info": {
   "codemirror_mode": {
    "name": "ipython",
    "version": 3
   },
   "file_extension": ".py",
   "mimetype": "text/x-python",
   "name": "python",
   "nbconvert_exporter": "python",
   "pygments_lexer": "ipython3",
   "version": "3.8.10"
  }
 },
 "nbformat": 4,
 "nbformat_minor": 5
}
